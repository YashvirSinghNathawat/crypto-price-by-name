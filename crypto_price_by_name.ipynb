{
 "cells": [
  {
   "cell_type": "code",
   "execution_count": 52,
   "metadata": {
    "colab": {
     "base_uri": "https://localhost:8080/"
    },
    "id": "zzcBcixBTsy7",
    "outputId": "8b2ae5b8-9a31-405f-94d7-49409c122cf1"
   },
   "outputs": [],
   "source": [
    "# Importing Packages\n",
    "import requests\n",
    "import json"
   ]
  },
  {
   "cell_type": "markdown",
   "metadata": {},
   "source": [
    "# Endpoint to get all crypto price by its name\n",
    "1. Rate Limit Exceeded is taken care of\n",
    "2. Handling of Item not found is also done"
   ]
  },
  {
   "cell_type": "code",
   "execution_count": 62,
   "metadata": {},
   "outputs": [
    {
     "name": "stdout",
     "output_type": "stream",
     "text": [
      "Price of ethereum:3367.68 dollars.\n"
     ]
    }
   ],
   "source": [
    "def get_crypto_price_usd(crypto_name):\n",
    "  # Request to get the Id of the CryptoCurrency\n",
    "  url = f\"https://api.coingecko.com/api/v3/search?query={crypto_name}\"\n",
    "  headers = {\"accept\": \"application/json\",\"x_cg_demo_api_key\":\"CG-575GAmaCL7VVCePVyjZdFzB1\"}\n",
    "  response = requests.get(url, headers=headers)\n",
    "\n",
    "  # Handling Error for Rate Limit Exceeded\n",
    "  if response.status_code==429:\n",
    "      return {'accept':0,'message':f\"Due to Rate Limit Exceeded, we cannot fetch data from the API\"}\n",
    "\n",
    "  api_data = json.loads(response.text)['coins']\n",
    "    \n",
    "  # Handling Error when crypto_name is not found\n",
    "  if len(api_data)==0:\n",
    "    return {'accept':0,'message':f\"Cryto Name is not Found. Try again with valid crypto name\"}\n",
    "\n",
    "  api_id = api_data[0]['id']\n",
    "\n",
    "\n",
    "  # Request to get the price of the CryptoCurrency based on id\n",
    "  url_2 = f\"https://api.coingecko.com/api/v3/coins/{api_id}\"\n",
    "  response_2 = requests.get(url_2, headers=headers)\n",
    "  api_data_2 = json.loads(response_2.text)\n",
    "  # Handling Error for Rate Limit Exceeded\n",
    "  if response_2.status_code==429:\n",
    "      return {'accept':0,'message':f\"Due to Rate Limit Exceeded, we cannot fetch data from the API\"}\n",
    "  \n",
    "  # Handling Error for Coin with id Not Found\n",
    "  if response_2.status_code==404:\n",
    "      return {'accept':0,'message':f\"{api_data_2['error']}\"}\n",
    "\n",
    "  price = api_data_2[\"market_data\"][\"current_price\"][\"usd\"]   # Price in Usd\n",
    "  return {'accept':1 , 'price_data':price}\n",
    "\n",
    "crypto_name = 'ethereum'\n",
    "crypto_price = get_crypto_price_usd(crypto_name)\n",
    "if crypto_price['accept']==0:\n",
    "  print(f\"Failed to fetch data with error : {crypto_price['message']}.\")\n",
    "else:\n",
    "  print(f\"Price of {crypto_name}:{crypto_price['price_data']} dollars.\")"
   ]
  },
  {
   "cell_type": "markdown",
   "metadata": {},
   "source": [
    "# Endpoint to get crypto price by its symbol.\n",
    "Note: There can be multiple symbols for same coin. This Endpoint gets all data\n",
    "1. Error Handling is not done here. I am doing it."
   ]
  },
  {
   "cell_type": "code",
   "execution_count": 81,
   "metadata": {
    "id": "gNcChK44ancN"
   },
   "outputs": [
    {
     "name": "stdout",
     "output_type": "stream",
     "text": [
      "Price of batcat is 0.00024703 dollars.\n",
      "Price of bitcoin is 60804 dollars.\n",
      "Price of bitcoin-2015-wrapper-meme is 0.069376 dollars.\n",
      "Price of blackrocktradingcurrency is 0.00720193 dollars.\n"
     ]
    }
   ],
   "source": [
    "# Error is not handled for below endpoint\n",
    "def get_crypto_price_by_symbol(crypto_symbol):\n",
    "  # Request to get the Id of the CryptoCurrency\n",
    "  url = f\"https://api.coingecko.com/api/v3/coins/list\"\n",
    "  headers = {\"accept\": \"application/json\",\"x_cg_demo_api_key\":\"CG-575GAmaCL7VVCePVyjZdFzB1\"}\n",
    "  response = requests.get(url, headers=headers)\n",
    "\n",
    "  # Handling Error for Rate Limit Exceeded\n",
    "  if response.status_code==429:\n",
    "      return {'accept':0,'message':f\"Due to Rate Limit Exceeded, we cannot fetch data from the API\"}\n",
    "  \n",
    "  coin_data = json.loads(response.text)\n",
    "  # There can be many crypto with same symbols so I am storing ids of all such\n",
    "  coin_ids = []\n",
    "  for coin in coin_data:\n",
    "      if coin['symbol']== crypto_symbol:\n",
    "          coin_ids.append(coin['id'])\n",
    "  if coin_ids==[]:\n",
    "    return {'accept':0,'message':f\"Item not found\"}\n",
    "  # Request to get the price of the CryptoCurrency based on id\n",
    "  prices = []\n",
    "  for id in coin_ids:\n",
    "      url_2 = f\"https://api.coingecko.com/api/v3/coins/{id}\"\n",
    "      response_2 = requests.get(url_2, headers=headers)\n",
    "      \n",
    "      # Handling Error for Rate Limit Exceeded\n",
    "      if response.status_code==429:\n",
    "          return {'accept':0,'message':f\"Due to Rate Limit Exceeded, we cannot fetch data from the API\"}\n",
    "\n",
    "      api_data_2 = json.loads(response_2.text)\n",
    "      prices.append({'crypto_id' : id , 'crypto_price': api_data_2[\"market_data\"][\"current_price\"][\"usd\"]})   # Price in Usd\n",
    "  return {'accept':1 , 'price_data':prices}\n",
    "\n",
    "# Edit the symbol here\n",
    "crypto_symbol = 'btc'\n",
    "crypto_prices = get_crypto_price_by_symbol(crypto_symbol)\n",
    "if crypto_prices['accept']==0:\n",
    "  print(f\"Failed to fetch data with error : {crypto_prices['message']}.\")\n",
    "else:\n",
    "  for crypto_data in crypto_prices['price_data']:\n",
    "      print(f\"Price of {crypto_data['crypto_id']} is {crypto_data['crypto_price']} dollars.\")"
   ]
  },
  {
   "cell_type": "code",
   "execution_count": null,
   "metadata": {},
   "outputs": [],
   "source": []
  }
 ],
 "metadata": {
  "colab": {
   "provenance": []
  },
  "kernelspec": {
   "display_name": "Python 3 (ipykernel)",
   "language": "python",
   "name": "python3"
  },
  "language_info": {
   "codemirror_mode": {
    "name": "ipython",
    "version": 3
   },
   "file_extension": ".py",
   "mimetype": "text/x-python",
   "name": "python",
   "nbconvert_exporter": "python",
   "pygments_lexer": "ipython3",
   "version": "3.11.7"
  }
 },
 "nbformat": 4,
 "nbformat_minor": 4
}
