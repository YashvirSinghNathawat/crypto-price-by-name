{
  "nbformat": 4,
  "nbformat_minor": 0,
  "metadata": {
    "colab": {
      "provenance": []
    },
    "kernelspec": {
      "name": "python3",
      "display_name": "Python 3"
    },
    "language_info": {
      "name": "python"
    }
  },
  "cells": [
    {
      "cell_type": "code",
      "execution_count": 49,
      "metadata": {
        "colab": {
          "base_uri": "https://localhost:8080/"
        },
        "id": "zzcBcixBTsy7",
        "outputId": "8b2ae5b8-9a31-405f-94d7-49409c122cf1"
      },
      "outputs": [
        {
          "output_type": "stream",
          "name": "stdout",
          "text": [
            "Price of ethereum:0.05555555 bitcoin.\n"
          ]
        }
      ],
      "source": [
        "import requests\n",
        "import json\n",
        "\n",
        "def get_crypto_price_btc(crypto_name):\n",
        "  # Request to get the Id of the CryptoCurrency\n",
        "  url = f\"https://api.coingecko.com/api/v3/search?query={crypto_name}\"\n",
        "  headers = {\"accept\": \"application/json\",\"x_cg_demo_api_key\":\"CG-575GAmaCL7VVCePVyjZdFzB1\"}\n",
        "  response = requests.get(url, headers=headers)\n",
        "\n",
        "  api_data = json.loads(response.text)['coins']\n",
        "  if len(api_data)==0:\n",
        "    return -1\n",
        "\n",
        "  api_id = api_data[0]['id']\n",
        "\n",
        "\n",
        "  # Request to get the price of the CryptoCurrency based on id\n",
        "  url_2 = f\"https://api.coingecko.com/api/v3/coins/{api_id}\"\n",
        "  response_2 = requests.get(url_2, headers=headers)\n",
        "  api_data_2 = json.loads(response_2.text)\n",
        "  price = api_data_2[\"market_data\"][\"current_price\"][\"btc\"]   # Price in Btc\n",
        "  return price\n",
        "\n",
        "crypto_name = 'ethereum'\n",
        "crypto_price = get_crypto_price_btc(crypto_name)\n",
        "if crypto_price==-1:\n",
        "  print(f\"Failed to fetch data.\")\n",
        "else:\n",
        "  print(f\"Price of {crypto_name}:{crypto_price} bitcoin.\")"
      ]
    },
    {
      "cell_type": "code",
      "source": [
        "import requests\n",
        "\n",
        "url = \"https://api.coingecko.com/api/v3/search?query=01coin\"\n",
        "\n",
        "headers = {\"accept\": \"application/json\",\"x_cg_demo_api_key\":\"CG-575GAmaCL7VVCePVyjZdFzB1\"}\n",
        "\n",
        "response = requests.get(url, headers=headers)\n",
        "\n",
        "print(response.text)"
      ],
      "metadata": {
        "colab": {
          "base_uri": "https://localhost:8080/"
        },
        "id": "iQhAiDbIXAEF",
        "outputId": "374f2662-560d-4cf7-bc92-efae153e314e"
      },
      "execution_count": 12,
      "outputs": [
        {
          "output_type": "stream",
          "name": "stdout",
          "text": [
            "{\"coins\":[{\"id\":\"01coin\",\"name\":\"01coin\",\"api_symbol\":\"01coin\",\"symbol\":\"ZOC\",\"market_cap_rank\":null,\"thumb\":\"https://coin-images.coingecko.com/coins/images/5720/thumb/F1nTlw9I_400x400.jpg\",\"large\":\"https://coin-images.coingecko.com/coins/images/5720/large/F1nTlw9I_400x400.jpg\"}],\"exchanges\":[],\"icos\":[],\"categories\":[],\"nfts\":[]}\n"
          ]
        }
      ]
    },
    {
      "cell_type": "code",
      "source": [],
      "metadata": {
        "id": "gNcChK44ancN"
      },
      "execution_count": null,
      "outputs": []
    }
  ]
}