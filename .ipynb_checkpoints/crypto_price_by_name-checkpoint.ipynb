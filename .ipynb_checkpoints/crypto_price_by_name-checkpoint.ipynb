{
 "cells": [
  {
   "cell_type": "code",
   "execution_count": 2,
   "metadata": {
    "colab": {
     "base_uri": "https://localhost:8080/"
    },
    "id": "zzcBcixBTsy7",
    "outputId": "8b2ae5b8-9a31-405f-94d7-49409c122cf1"
   },
   "outputs": [
    {
     "name": "stdout",
     "output_type": "stream",
     "text": [
      "Price of ethereum:3370.3 dollars.\n"
     ]
    }
   ],
   "source": [
    "import requests\n",
    "import json\n",
    "\n",
    "def get_crypto_price_btc(crypto_name):\n",
    "  # Request to get the Id of the CryptoCurrency\n",
    "  url = f\"https://api.coingecko.com/api/v3/search?query={crypto_name}\"\n",
    "  headers = {\"accept\": \"application/json\",\"x_cg_demo_api_key\":\"CG-575GAmaCL7VVCePVyjZdFzB1\"}\n",
    "  response = requests.get(url, headers=headers)\n",
    "\n",
    "  api_data = json.loads(response.text)['coins']\n",
    "  if len(api_data)==0:\n",
    "    return -1\n",
    "\n",
    "  api_id = api_data[0]['id']\n",
    "\n",
    "\n",
    "  # Request to get the price of the CryptoCurrency based on id\n",
    "  url_2 = f\"https://api.coingecko.com/api/v3/coins/{api_id}\"\n",
    "  response_2 = requests.get(url_2, headers=headers)\n",
    "  api_data_2 = json.loads(response_2.text)\n",
    "  price = api_data_2[\"market_data\"][\"current_price\"][\"usd\"]   # Price in Usd\n",
    "  return price\n",
    "\n",
    "crypto_name = 'ethereum'\n",
    "crypto_price = get_crypto_price_btc(crypto_name)\n",
    "if crypto_price==-1:\n",
    "  print(f\"Failed to fetch data.\")\n",
    "else:\n",
    "  print(f\"Price of {crypto_name}:{crypto_price} dollars.\")"
   ]
  },
  {
   "cell_type": "code",
   "execution_count": null,
   "metadata": {
    "id": "gNcChK44ancN"
   },
   "outputs": [],
   "source": []
  }
 ],
 "metadata": {
  "colab": {
   "provenance": []
  },
  "kernelspec": {
   "display_name": "Python 3 (ipykernel)",
   "language": "python",
   "name": "python3"
  },
  "language_info": {
   "codemirror_mode": {
    "name": "ipython",
    "version": 3
   },
   "file_extension": ".py",
   "mimetype": "text/x-python",
   "name": "python",
   "nbconvert_exporter": "python",
   "pygments_lexer": "ipython3",
   "version": "3.11.7"
  }
 },
 "nbformat": 4,
 "nbformat_minor": 4
}
