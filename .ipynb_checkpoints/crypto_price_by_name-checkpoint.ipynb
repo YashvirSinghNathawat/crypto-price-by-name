{
 "cells": [
  {
   "cell_type": "code",
   "execution_count": 40,
   "metadata": {
    "colab": {
     "base_uri": "https://localhost:8080/"
    },
    "id": "zzcBcixBTsy7",
    "outputId": "8b2ae5b8-9a31-405f-94d7-49409c122cf1"
   },
   "outputs": [
    {
     "ename": "KeyError",
     "evalue": "'market_data'",
     "output_type": "error",
     "traceback": [
      "\u001b[1;31m---------------------------------------------------------------------------\u001b[0m",
      "\u001b[1;31mKeyError\u001b[0m                                  Traceback (most recent call last)",
      "Cell \u001b[1;32mIn[40], line 25\u001b[0m\n\u001b[0;32m     22\u001b[0m   \u001b[38;5;28;01mreturn\u001b[39;00m price\n\u001b[0;32m     24\u001b[0m crypto_name \u001b[38;5;241m=\u001b[39m \u001b[38;5;124m'\u001b[39m\u001b[38;5;124methereum\u001b[39m\u001b[38;5;124m'\u001b[39m\n\u001b[1;32m---> 25\u001b[0m crypto_price \u001b[38;5;241m=\u001b[39m \u001b[43mget_crypto_price_btc\u001b[49m\u001b[43m(\u001b[49m\u001b[43mcrypto_name\u001b[49m\u001b[43m)\u001b[49m\n\u001b[0;32m     26\u001b[0m \u001b[38;5;28;01mif\u001b[39;00m crypto_price\u001b[38;5;241m==\u001b[39m\u001b[38;5;241m-\u001b[39m\u001b[38;5;241m1\u001b[39m:\n\u001b[0;32m     27\u001b[0m   \u001b[38;5;28mprint\u001b[39m(\u001b[38;5;124mf\u001b[39m\u001b[38;5;124m\"\u001b[39m\u001b[38;5;124mFailed to fetch data.\u001b[39m\u001b[38;5;124m\"\u001b[39m)\n",
      "Cell \u001b[1;32mIn[2], line 21\u001b[0m, in \u001b[0;36mget_crypto_price_btc\u001b[1;34m(crypto_name)\u001b[0m\n\u001b[0;32m     19\u001b[0m response_2 \u001b[38;5;241m=\u001b[39m requests\u001b[38;5;241m.\u001b[39mget(url_2, headers\u001b[38;5;241m=\u001b[39mheaders)\n\u001b[0;32m     20\u001b[0m api_data_2 \u001b[38;5;241m=\u001b[39m json\u001b[38;5;241m.\u001b[39mloads(response_2\u001b[38;5;241m.\u001b[39mtext)\n\u001b[1;32m---> 21\u001b[0m price \u001b[38;5;241m=\u001b[39m \u001b[43mapi_data_2\u001b[49m\u001b[43m[\u001b[49m\u001b[38;5;124;43m\"\u001b[39;49m\u001b[38;5;124;43mmarket_data\u001b[39;49m\u001b[38;5;124;43m\"\u001b[39;49m\u001b[43m]\u001b[49m[\u001b[38;5;124m\"\u001b[39m\u001b[38;5;124mcurrent_price\u001b[39m\u001b[38;5;124m\"\u001b[39m][\u001b[38;5;124m\"\u001b[39m\u001b[38;5;124musd\u001b[39m\u001b[38;5;124m\"\u001b[39m]   \u001b[38;5;66;03m# Price in Usd\u001b[39;00m\n\u001b[0;32m     22\u001b[0m \u001b[38;5;28;01mreturn\u001b[39;00m price\n",
      "\u001b[1;31mKeyError\u001b[0m: 'market_data'"
     ]
    }
   ],
   "source": [
    "import requests\n",
    "import json\n",
    "\n",
    "def get_crypto_price_usd(crypto_name):\n",
    "  # Request to get the Id of the CryptoCurrency\n",
    "  url = f\"https://api.coingecko.com/api/v3/search?query={crypto_name}\"\n",
    "  headers = {\"accept\": \"application/json\",\"x_cg_demo_api_key\":\"CG-575GAmaCL7VVCePVyjZdFzB1\"}\n",
    "  response = requests.get(url, headers=headers)\n",
    "\n",
    "  # Handling Error for Rate Limit Exceeded\n",
    "  if response.status==429:\n",
    "      return {'accept':0,'message':f\"Due to Rate Limit Exceeded, we cannot fetch data from the API\"}\n",
    "\n",
    "  api_data = json.loads(response.text)['coins']\n",
    "  if len(api_data)==0:\n",
    "    return -1\n",
    "\n",
    "  api_id = api_data[0]['id']\n",
    "\n",
    "\n",
    "  # Request to get the price of the CryptoCurrency based on id\n",
    "  url_2 = f\"https://api.coingecko.com/api/v3/coins/{api_id}\"\n",
    "  response_2 = requests.get(url_2, headers=headers)\n",
    "  api_data_2 = json.loads(response_2.text)\n",
    "  price = api_data_2[\"market_data\"][\"current_price\"][\"usd\"]   # Price in Usd\n",
    "  return {'accept':1 , 'price_data':price}\n",
    "\n",
    "crypto_name = 'ethereum'\n",
    "crypto_price = get_crypto_price_btc(crypto_name)\n",
    "if crypto_price==-1:\n",
    "  print(f\"Failed to fetch data.\")\n",
    "else:\n",
    "  print(f\"Price of {crypto_name}:{crypto_price} dollars.\")"
   ]
  },
  {
   "cell_type": "code",
   "execution_count": 39,
   "metadata": {
    "id": "gNcChK44ancN"
   },
   "outputs": [
    {
     "name": "stdout",
     "output_type": "stream",
     "text": [
      "{\"status\":{\"error_code\":429,\"error_message\":\"You've exceeded the Rate Limit. Please visit https://www.coingecko.com/en/api/pricing to subscribe to our API plans for higher rate limits.\"}}\n"
     ]
    },
    {
     "ename": "KeyError",
     "evalue": "'market_data'",
     "output_type": "error",
     "traceback": [
      "\u001b[1;31m---------------------------------------------------------------------------\u001b[0m",
      "\u001b[1;31mKeyError\u001b[0m                                  Traceback (most recent call last)",
      "Cell \u001b[1;32mIn[39], line 24\u001b[0m\n\u001b[0;32m     22\u001b[0m   \u001b[38;5;28;01mreturn\u001b[39;00m prices\n\u001b[0;32m     23\u001b[0m crypto_symbol \u001b[38;5;241m=\u001b[39m \u001b[38;5;124m'\u001b[39m\u001b[38;5;124mbtc\u001b[39m\u001b[38;5;124m'\u001b[39m\n\u001b[1;32m---> 24\u001b[0m crypto_prices \u001b[38;5;241m=\u001b[39m \u001b[43mget_crypto_price_by_symbol\u001b[49m\u001b[43m(\u001b[49m\u001b[43mcrypto_symbol\u001b[49m\u001b[43m)\u001b[49m\n\u001b[0;32m     25\u001b[0m \u001b[38;5;28;01mif\u001b[39;00m crypto_prices\u001b[38;5;241m==\u001b[39m\u001b[38;5;241m-\u001b[39m\u001b[38;5;241m1\u001b[39m:\n\u001b[0;32m     26\u001b[0m   \u001b[38;5;28mprint\u001b[39m(\u001b[38;5;124mf\u001b[39m\u001b[38;5;124m\"\u001b[39m\u001b[38;5;124mFailed to fetch data.\u001b[39m\u001b[38;5;124m\"\u001b[39m)\n",
      "Cell \u001b[1;32mIn[39], line 21\u001b[0m, in \u001b[0;36mget_crypto_price_by_symbol\u001b[1;34m(crypto_symbol)\u001b[0m\n\u001b[0;32m     19\u001b[0m     \u001b[38;5;28mprint\u001b[39m(response_2\u001b[38;5;241m.\u001b[39mtext)\n\u001b[0;32m     20\u001b[0m     api_data_2 \u001b[38;5;241m=\u001b[39m json\u001b[38;5;241m.\u001b[39mloads(response_2\u001b[38;5;241m.\u001b[39mtext)\n\u001b[1;32m---> 21\u001b[0m     prices\u001b[38;5;241m.\u001b[39mappend({\u001b[38;5;124m'\u001b[39m\u001b[38;5;124mcrypto_id\u001b[39m\u001b[38;5;124m'\u001b[39m : \u001b[38;5;28mid\u001b[39m , \u001b[38;5;124m'\u001b[39m\u001b[38;5;124mcrypto_price\u001b[39m\u001b[38;5;124m'\u001b[39m: \u001b[43mapi_data_2\u001b[49m\u001b[43m[\u001b[49m\u001b[38;5;124;43m\"\u001b[39;49m\u001b[38;5;124;43mmarket_data\u001b[39;49m\u001b[38;5;124;43m\"\u001b[39;49m\u001b[43m]\u001b[49m[\u001b[38;5;124m\"\u001b[39m\u001b[38;5;124mcurrent_price\u001b[39m\u001b[38;5;124m\"\u001b[39m][\u001b[38;5;124m\"\u001b[39m\u001b[38;5;124musd\u001b[39m\u001b[38;5;124m\"\u001b[39m]})   \u001b[38;5;66;03m# Price in Usd\u001b[39;00m\n\u001b[0;32m     22\u001b[0m \u001b[38;5;28;01mreturn\u001b[39;00m prices\n",
      "\u001b[1;31mKeyError\u001b[0m: 'market_data'"
     ]
    }
   ],
   "source": [
    "# API End\n",
    "def get_crypto_price_by_symbol(crypto_symbol):\n",
    "    # Request to get the Id of the CryptoCurrency\n",
    "  url = f\"https://api.coingecko.com/api/v3/coins/list\"\n",
    "  headers = {\"accept\": \"application/json\",\"x_cg_demo_api_key\":\"CG-575GAmaCL7VVCePVyjZdFzB1\"}\n",
    "  response = requests.get(url, headers=headers)\n",
    "\n",
    "  # Handling Error for Rate Limit Exceeded\n",
    "  if response.status==429:\n",
    "      return {'accept':}\n",
    "      print(f\"Due to Rate Limit Exceeded, we cannot fetch data from the API\")\n",
    "  \n",
    "  coin_data = json.loads(response.text)\n",
    "  # There can be many crypto with same symbols so I am storing ids of all such\n",
    "  coin_ids = []\n",
    "  for coin in coin_data:\n",
    "      if coin['symbol']== crypto_symbol:\n",
    "          coin_ids.append(coin['id'])\n",
    "  if coin_ids==[]:\n",
    "    return -1\n",
    "  # Request to get the price of the CryptoCurrency based on id\n",
    "  prices = []\n",
    "  for id in coin_ids:\n",
    "      url_2 = f\"https://api.coingecko.com/api/v3/coins/{id}\"\n",
    "      response_2 = requests.get(url_2, headers=headers)\n",
    "      print(response_2.text)\n",
    "      api_data_2 = json.loads(response_2.text)\n",
    "      prices.append({'crypto_id' : id , 'crypto_price': api_data_2[\"market_data\"][\"current_price\"][\"usd\"]})   # Price in Usd\n",
    "  return prices\n",
    "crypto_symbol = 'btc'\n",
    "crypto_prices = get_crypto_price_by_symbol(crypto_symbol)\n",
    "if crypto_prices==-1:\n",
    "  print(f\"Failed to fetch data.\")\n",
    "else:\n",
    "  for crypto_data in crypto_prices:\n",
    "      print(f\"Price of {crypto_data['crypto_id']} is {crypto_data['current_price']} dollars.\")"
   ]
  },
  {
   "cell_type": "code",
   "execution_count": null,
   "metadata": {},
   "outputs": [],
   "source": []
  }
 ],
 "metadata": {
  "colab": {
   "provenance": []
  },
  "kernelspec": {
   "display_name": "Python 3 (ipykernel)",
   "language": "python",
   "name": "python3"
  },
  "language_info": {
   "codemirror_mode": {
    "name": "ipython",
    "version": 3
   },
   "file_extension": ".py",
   "mimetype": "text/x-python",
   "name": "python",
   "nbconvert_exporter": "python",
   "pygments_lexer": "ipython3",
   "version": "3.11.7"
  }
 },
 "nbformat": 4,
 "nbformat_minor": 4
}
